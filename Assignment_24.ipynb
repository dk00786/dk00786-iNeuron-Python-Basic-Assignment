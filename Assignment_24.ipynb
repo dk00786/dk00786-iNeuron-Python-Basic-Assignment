{
 "cells": [
  {
   "cell_type": "markdown",
   "metadata": {},
   "source": [
    "## Python Basic Assignment_24"
   ]
  },
  {
   "cell_type": "markdown",
   "metadata": {},
   "source": [
    "#### Ans1).\n",
    "- In Python, a lambda function is an anonymous function expressed as a single statement.You can use it instead of a normal tiny function.\n",
    "- Just like with expressions created using the def keyword, a lambda expression does not need to have any parameters."
   ]
  },
  {
   "cell_type": "markdown",
   "metadata": {},
   "source": [
    "#### Ans2).\n",
    "- One of the most benefits of a lambda expression is to reduce the amount of code. \n",
    "- The lambda keyword in Python provides a shortcut for declaring small anonymous functions"
   ]
  },
  {
   "cell_type": "markdown",
   "metadata": {},
   "source": [
    "#### Ans3)."
   ]
  },
  {
   "cell_type": "markdown",
   "metadata": {},
   "source": [
    "## lambdas in filter()\n",
    "- The filter function is used to select some particular elements from a sequence of elements. The sequence can be any iterator like lists, sets, tuples, etc.\n",
    "\n",
    "- The elements which will be selected is based on some pre-defined constraint. It takes 2 parameters:\n",
    "     1. A function that defines the filtering constraint\n",
    "     2. Sequence (any iterator like lists, tuples, etc.)\n",
    "      \n",
    "      \n",
    "## lambdas in map()\n",
    "\n",
    "- The map function is used to apply a particular operation to every element in a sequence. Like filter(), it also takes 2 parameters:\n",
    "\n",
    "    1. A function that defines the op to perform on the elements\n",
    "    2. One or more sequences\n",
    "    \n",
    "    \n",
    "## lambdas in reduce()\n",
    "- The reduce function, like map(), is used to apply an operation to every element in a sequence. However, it differs from the map in its working. These are the steps followed by the reduce() function to compute an output:\n",
    "\n",
    "             Step 1). Perform the defined operation on the first 2 elements of the sequence.\n",
    "             Step 2). Save this result\n",
    "             Step 3). Perform the operation with the saved result and the next element in the sequence.\n",
    "             Step 4). Repeat until no more elements are left.\n",
    " "
   ]
  },
  {
   "cell_type": "markdown",
   "metadata": {},
   "source": [
    "#### Ans4).\n",
    "Function annotations are a Python 3 feature that lets you add arbitrary metadata to function arguments and return value. They were part of the original Python 3.0 spec."
   ]
  },
  {
   "cell_type": "markdown",
   "metadata": {},
   "source": [
    "#### Ans5).\n",
    "- A recursive function is a function that calls itself during its execution. The process may repeat several times, outputting the result and the end of each iteration.\n",
    "- The function Count() below uses recursion to count from any number between 1 and 9, to the number 10"
   ]
  },
  {
   "cell_type": "markdown",
   "metadata": {},
   "source": [
    "#### Ans6).\n",
    "- General guidelines for coding functions?:\n",
    "     - 1.A coding standard gives a uniform appearance to the codes written by different engineers.\n",
    "     - 2.It improves readability, and maintainability of the code and it reduces complexity also.\n",
    "     - 3.It helps in code reuse and helps to detect error easily .\n",
    "     - 4.It promotes sound programming practices and increases efficiency of the programmers."
   ]
  },
  {
   "cell_type": "markdown",
   "metadata": {},
   "source": [
    "#### Ans7).\n",
    "\n",
    "  1. Built-in functions, such as help() to ask for help, min() to get the minimum value, print() to print an object to the terminal,… You can find an overview with more of these functions here.\n",
    "  2. User-Defined Functions (UDFs), which are functions that users create to help them out; And\n",
    "  3. Anonymous functions, which are also called lambda functions because they are not declared with the standard def keyword.\n",
    "     "
   ]
  },
  {
   "cell_type": "markdown",
   "metadata": {},
   "source": [
    "## THE END"
   ]
  }
 ],
 "metadata": {
  "kernelspec": {
   "display_name": "Python 3",
   "language": "python",
   "name": "python3"
  },
  "language_info": {
   "codemirror_mode": {
    "name": "ipython",
    "version": 3
   },
   "file_extension": ".py",
   "mimetype": "text/x-python",
   "name": "python",
   "nbconvert_exporter": "python",
   "pygments_lexer": "ipython3",
   "version": "3.8.5"
  }
 },
 "nbformat": 4,
 "nbformat_minor": 4
}
